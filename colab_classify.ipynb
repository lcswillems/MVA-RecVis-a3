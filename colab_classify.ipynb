{
 "cells": [
  {
   "cell_type": "code",
   "execution_count": null,
   "metadata": {
    "colab": {},
    "colab_type": "code",
    "id": "ycJDIjjA2EL8"
   },
   "outputs": [],
   "source": [
    "!git clone https://github.com/lcswillems/recvis18_a3.git\n",
    "%cd recvis18_a3\n",
    "\n",
    "!chmod 0777 download_dataset.sh\n",
    "!./download_dataset.sh\n",
    "\n",
    "!pip3 install torch torchvision imgaug"
   ]
  },
  {
   "cell_type": "code",
   "execution_count": null,
   "metadata": {
    "colab": {
     "base_uri": "https://localhost:8080/",
     "height": 14077
    },
    "colab_type": "code",
    "executionInfo": {
     "elapsed": 418049,
     "status": "ok",
     "timestamp": 1542751642724,
     "user": {
      "displayName": "Lucas Willems",
      "photoUrl": "https://lh6.googleusercontent.com/-ir1uD23KEMI/AAAAAAAAAAI/AAAAAAAAGHA/eq_ah9mF--A/s64/photo.jpg",
      "userId": "06158484782127358012"
     },
     "user_tz": -60
    },
    "id": "6db6_3T23nQL",
    "outputId": "e6d478d8-5595-43f3-a6ff-35ae4c96c039"
   },
   "outputs": [],
   "source": [
    "!python train.py --exp densenet161 --arch Densenet161"
   ]
  },
  {
   "cell_type": "code",
   "execution_count": null,
   "metadata": {
    "colab": {
     "base_uri": "https://localhost:8080/",
     "height": 127
    },
    "colab_type": "code",
    "executionInfo": {
     "elapsed": 369413,
     "status": "ok",
     "timestamp": 1542734494416,
     "user": {
      "displayName": "Lucas Willems",
      "photoUrl": "https://lh6.googleusercontent.com/-ir1uD23KEMI/AAAAAAAAAAI/AAAAAAAAGHA/eq_ah9mF--A/s64/photo.jpg",
      "userId": "06158484782127358012"
     },
     "user_tz": -60
    },
    "id": "S4zpoWyTK78g",
    "outputId": "1e458a80-ee4d-46f8-c8d2-7ae4d46481fc"
   },
   "outputs": [],
   "source": [
    "!python evaluate.py --exp densenet161"
   ]
  }
 ],
 "metadata": {
  "accelerator": "GPU",
  "colab": {
   "collapsed_sections": [],
   "name": "classification.ipynb",
   "provenance": [],
   "version": "0.3.2"
  },
  "kernelspec": {
   "display_name": "Python 3",
   "language": "python",
   "name": "python3"
  },
  "language_info": {
   "codemirror_mode": {
    "name": "ipython",
    "version": 3
   },
   "file_extension": ".py",
   "mimetype": "text/x-python",
   "name": "python",
   "nbconvert_exporter": "python",
   "pygments_lexer": "ipython3",
   "version": "3.6.6"
  }
 },
 "nbformat": 4,
 "nbformat_minor": 2
}
