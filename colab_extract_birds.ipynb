{
 "cells": [
  {
   "cell_type": "markdown",
   "metadata": {
    "colab_type": "text",
    "id": "Ee07SH8u50g0"
   },
   "source": [
    "# Download and import ImageAI"
   ]
  },
  {
   "cell_type": "code",
   "execution_count": null,
   "metadata": {
    "colab": {
     "base_uri": "https://localhost:8080/",
     "height": 163
    },
    "colab_type": "code",
    "executionInfo": {
     "elapsed": 34886,
     "status": "ok",
     "timestamp": 1542666026788,
     "user": {
      "displayName": "Lucas Willems",
      "photoUrl": "https://lh6.googleusercontent.com/-ir1uD23KEMI/AAAAAAAAAAI/AAAAAAAAGHA/eq_ah9mF--A/s64/photo.jpg",
      "userId": "06158484782127358012"
     },
     "user_tz": -60
    },
    "id": "e3RT35fs5Qbr",
    "outputId": "04315de1-8900-4ff7-ea6a-664c3a0fd257"
   },
   "outputs": [],
   "source": [
    "!pip3 install https://github.com/OlafenwaMoses/ImageAI/releases/download/2.0.2/imageai-2.0.2-py3-none-any.whl\n",
    "\n",
    "from imageai.Detection import ObjectDetection\n",
    "import os"
   ]
  },
  {
   "cell_type": "markdown",
   "metadata": {
    "colab_type": "text",
    "id": "Q7Qmd1NZ5-ft"
   },
   "source": [
    "# Download dataset"
   ]
  },
  {
   "cell_type": "code",
   "execution_count": null,
   "metadata": {
    "colab": {
     "base_uri": "https://localhost:8080/",
     "height": 215
    },
    "colab_type": "code",
    "executionInfo": {
     "elapsed": 16066,
     "status": "ok",
     "timestamp": 1542666046973,
     "user": {
      "displayName": "Lucas Willems",
      "photoUrl": "https://lh6.googleusercontent.com/-ir1uD23KEMI/AAAAAAAAAAI/AAAAAAAAGHA/eq_ah9mF--A/s64/photo.jpg",
      "userId": "06158484782127358012"
     },
     "user_tz": -60
    },
    "id": "Mvn8SFNa5VLs",
    "outputId": "27fc0061-4ec3-4df3-d566-7a84b4564fe9"
   },
   "outputs": [],
   "source": [
    "!wget https://www.di.ens.fr/willow/teaching/recvis18/assignment3/bird_dataset.zip\n",
    "!unzip -q bird_dataset.zip\n",
    "!rm bird_dataset.zip"
   ]
  },
  {
   "cell_type": "markdown",
   "metadata": {
    "colab_type": "text",
    "id": "-eZtZ_FH6Uyw"
   },
   "source": [
    "# Download and load RetinaNet"
   ]
  },
  {
   "cell_type": "code",
   "execution_count": null,
   "metadata": {
    "colab": {
     "base_uri": "https://localhost:8080/",
     "height": 325
    },
    "colab_type": "code",
    "executionInfo": {
     "elapsed": 15469,
     "status": "ok",
     "timestamp": 1542666059571,
     "user": {
      "displayName": "Lucas Willems",
      "photoUrl": "https://lh6.googleusercontent.com/-ir1uD23KEMI/AAAAAAAAAAI/AAAAAAAAGHA/eq_ah9mF--A/s64/photo.jpg",
      "userId": "06158484782127358012"
     },
     "user_tz": -60
    },
    "id": "gXMfoiFo6dI2",
    "outputId": "4957176d-1b8e-4296-fabe-5a2b1a8063d6"
   },
   "outputs": [],
   "source": [
    "!wget https://github.com/OlafenwaMoses/ImageAI/releases/download/1.0/resnet50_coco_best_v2.0.1.h5\n",
    "\n",
    "detector = ObjectDetection()\n",
    "detector.setModelTypeAsRetinaNet()\n",
    "detector.setModelPath(\"resnet50_coco_best_v2.0.1.h5\")\n",
    "detector.loadModel()"
   ]
  },
  {
   "cell_type": "markdown",
   "metadata": {
    "colab_type": "text",
    "id": "5bzZsGp2604P"
   },
   "source": [
    "# Extract birds"
   ]
  },
  {
   "cell_type": "code",
   "execution_count": null,
   "metadata": {
    "colab": {},
    "colab_type": "code",
    "id": "2pP8HaDOCfUR"
   },
   "outputs": [],
   "source": [
    "!rm -rf bird_dataset_ex"
   ]
  },
  {
   "cell_type": "code",
   "execution_count": null,
   "metadata": {
    "colab": {},
    "colab_type": "code",
    "id": "E07MAVhJ7Tjv"
   },
   "outputs": [],
   "source": [
    "from tqdm import tqdm\n",
    "import glob\n",
    "from shutil import copyfile\n",
    "from PIL import Image\n",
    "\n",
    "custom_objects = detector.CustomObjects(bird=True)"
   ]
  },
  {
   "cell_type": "code",
   "execution_count": null,
   "metadata": {
    "colab": {
     "base_uri": "https://localhost:8080/",
     "height": 3617
    },
    "colab_type": "code",
    "executionInfo": {
     "elapsed": 112497,
     "status": "ok",
     "timestamp": 1542669170061,
     "user": {
      "displayName": "Lucas Willems",
      "photoUrl": "https://lh6.googleusercontent.com/-ir1uD23KEMI/AAAAAAAAAAI/AAAAAAAAGHA/eq_ah9mF--A/s64/photo.jpg",
      "userId": "06158484782127358012"
     },
     "user_tz": -60
    },
    "id": "AaPS0QLp5lJN",
    "outputId": "fc9e7804-f65b-4827-9dfc-612fc2895c0f"
   },
   "outputs": [],
   "source": [
    "for path in tqdm(sorted(glob.glob(\"bird_dataset/**/*.jpg\", recursive=True))):\n",
    "  path_ex = path.replace(\"bird_dataset\", \"bird_dataset_ex\")\n",
    "  if os.path.isfile(path_ex):\n",
    "    continue\n",
    "  \n",
    "  dirname = os.path.dirname(path_ex)\n",
    "  if not os.path.isdir(dirname):\n",
    "    os.makedirs(dirname)\n",
    "\n",
    "  try:\n",
    "    detections = detector.detectCustomObjectsFromImage(\n",
    "        custom_objects=custom_objects,\n",
    "        input_image=path,\n",
    "        output_image_path=path_ex,\n",
    "        minimum_percentage_probability=40)\n",
    "\n",
    "    detections = list(sorted(detections, key=lambda d: d[\"percentage_probability\"], reverse=True))\n",
    "  except Exception:\n",
    "    detections = []  \n",
    "  \n",
    "  if len(detections) > 0:\n",
    "    pts = detections[0][\"box_points\"]\n",
    "    \n",
    "    α = 0.1\n",
    "    \n",
    "    w = pts[2] - pts[0]\n",
    "    h = pts[3] - pts[1]\n",
    "    pts[0] = max(0, pts[0] - α*w)\n",
    "    pts[1] = max(0, pts[1] - α*h)\n",
    "    pts[2] = pts[2] + α*w\n",
    "    pts[3] = pts[3] + α*h\n",
    "    \n",
    "    Image.open(path).crop(pts).save(path_ex)\n",
    "  else:\n",
    "    print(\"\\nNo bird in {}\".format(path_ex))\n",
    "    copyfile(path, path_ex)"
   ]
  }
 ],
 "metadata": {
  "accelerator": "GPU",
  "colab": {
   "collapsed_sections": [],
   "name": "extract_birds.ipynb",
   "provenance": [],
   "toc_visible": true,
   "version": "0.3.2"
  },
  "kernelspec": {
   "display_name": "Python 3",
   "language": "python",
   "name": "python3"
  },
  "language_info": {
   "codemirror_mode": {
    "name": "ipython",
    "version": 3
   },
   "file_extension": ".py",
   "mimetype": "text/x-python",
   "name": "python",
   "nbconvert_exporter": "python",
   "pygments_lexer": "ipython3",
   "version": "3.6.6"
  }
 },
 "nbformat": 4,
 "nbformat_minor": 2
}
